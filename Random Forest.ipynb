{
 "cells": [
  {
   "cell_type": "markdown",
   "id": "44d176ec",
   "metadata": {},
   "source": [
    "### Random forest"
   ]
  },
  {
   "cell_type": "markdown",
   "id": "4f36f177",
   "metadata": {},
   "source": [
    "Библиотеки"
   ]
  },
  {
   "cell_type": "code",
   "execution_count": 1,
   "id": "6f63f1ce",
   "metadata": {},
   "outputs": [],
   "source": [
    "import numpy as np\n",
    "import pandas as pd\n",
    "from sklearn.datasets import make_regression\n",
    "from sklearn.metrics import r2_score"
   ]
  },
  {
   "cell_type": "code",
   "execution_count": 2,
   "id": "1bd45128",
   "metadata": {},
   "outputs": [],
   "source": [
    "def mse(y):\n",
    "    return np.mean((y - y.mean())**2)"
   ]
  },
  {
   "cell_type": "code",
   "execution_count": 3,
   "id": "ed2da9cf",
   "metadata": {},
   "outputs": [],
   "source": [
    "def gain(root_data, right_data, left_data):\n",
    "    p = float(right_data.shape[0]) / (right_data.shape[0] + left_data.shape[0])\n",
    "    return mse(root_data) - p*mse(right_data) - (1-p)*mse(left_data)"
   ]
  },
  {
   "cell_type": "code",
   "execution_count": 4,
   "id": "0b8a706b",
   "metadata": {},
   "outputs": [],
   "source": [
    "def split(X, y, index, t):\n",
    "    \n",
    "    left = np.where(X[:, index] <= t)\n",
    "    right = np.where(X[:, index] > t)\n",
    "    \n",
    "    false_data = X[right]\n",
    "    true_data = X[left]\n",
    "    \n",
    "    false_pred = y[right]\n",
    "    true_pred = y[left]\n",
    "    \n",
    "    return true_data, false_data, true_pred, false_pred"
   ]
  },
  {
   "cell_type": "code",
   "execution_count": 5,
   "id": "bebeea87",
   "metadata": {},
   "outputs": [],
   "source": [
    "def find_best_split(X, y):\n",
    "    \n",
    "    min_samples_leaf = 5\n",
    "    \n",
    "    best_gain = 0\n",
    "    best_t = None\n",
    "    best_index = None\n",
    "    \n",
    "    n_features = np.random.choice(X.shape[1], size=1, replace=False)\n",
    "    for index in n_features:\n",
    "        \n",
    "        t_values = np.unique(X[:, index])\n",
    "        \n",
    "        for t in t_values:\n",
    "            true_data, false_data, true_pred, false_pred  = split(X, y, index, t)\n",
    "            \n",
    "            if len(false_data) < min_samples_leaf or len(true_data) < min_samples_leaf:\n",
    "                continue\n",
    "                \n",
    "            current_gain = gain(y, false_pred, true_pred)\n",
    "            \n",
    "            if current_gain > best_gain:\n",
    "                best_gain = current_gain\n",
    "                best_t = t\n",
    "                best_index = index\n",
    "        \n",
    "    return best_gain, best_t, best_index "
   ]
  },
  {
   "cell_type": "code",
   "execution_count": 6,
   "id": "f4c92426",
   "metadata": {},
   "outputs": [],
   "source": [
    "def build_tree(X, y):\n",
    "    gain, t, index = find_best_split(X, y)\n",
    "\n",
    "    if gain == 0:\n",
    "        return Leaf(X, y)\n",
    "    true_data, false_data, true_pred, false_pred = split(X, y, index, t)\n",
    "    \n",
    "    true_branch = build_tree(true_data, true_pred)\n",
    "    \n",
    "    false_branch = build_tree(false_data, false_pred)\n",
    "    \n",
    "    return Node(index, t, true_branch, false_branch)"
   ]
  },
  {
   "cell_type": "code",
   "execution_count": 7,
   "id": "2b1d35db",
   "metadata": {},
   "outputs": [],
   "source": [
    "class Node:\n",
    "    def __init__(self, index, t, true_branch, false_branch):\n",
    "        self.index = index #Индекс признака, по которому мы сравниваем значения с пороговым\n",
    "        self.t = t #пороговое значение\n",
    "        self.true_branch = true_branch # Поддерево удовлетворяещее условию \n",
    "        self.false_branch = false_branch # Поддерево не удовлетворяещее условию \n",
    "    "
   ]
  },
  {
   "cell_type": "code",
   "execution_count": 8,
   "id": "979c8cfb",
   "metadata": {},
   "outputs": [],
   "source": [
    "class Leaf:\n",
    "    def __init__(self, X, y):\n",
    "        self.X = X\n",
    "        self.y = y\n",
    "        self.predict = self.y.mean()"
   ]
  },
  {
   "cell_type": "code",
   "execution_count": 9,
   "id": "310cb74f",
   "metadata": {},
   "outputs": [],
   "source": [
    "def classify_object(obj, node):\n",
    "\n",
    "    #  Останавливаем рекурсию, если достигли листа\n",
    "    if isinstance(node, Leaf):\n",
    "        answer = node.predict\n",
    "        return answer\n",
    "\n",
    "    if obj[node.index] <= node.t:\n",
    "        return classify_object(obj, node.true_branch)\n",
    "    else:\n",
    "        return classify_object(obj, node.false_branch)"
   ]
  },
  {
   "cell_type": "code",
   "execution_count": 10,
   "id": "f28bf203",
   "metadata": {},
   "outputs": [],
   "source": [
    "def predict(data, tree):\n",
    "    \n",
    "    prediction_y = list()\n",
    "    for obj in data:\n",
    "        prediction = classify_object(obj, tree)\n",
    "        prediction_y.append(prediction)\n",
    "    return prediction_y"
   ]
  },
  {
   "cell_type": "code",
   "execution_count": 11,
   "id": "e2ac2b29",
   "metadata": {},
   "outputs": [],
   "source": [
    "def fit_random_forest(data, y, count_trees):\n",
    "    mass_trees = []\n",
    "    bootstraps = []\n",
    "    for tree in range(count_trees):\n",
    "        obj_random = np.random.randint(0, data.shape[0], data.shape[0])\n",
    "        mass_trees.append(build_tree(data[obj_random], y[obj_random]))\n",
    "        bootstraps.append(obj_random)\n",
    "    return(mass_trees, bootstraps)"
   ]
  },
  {
   "cell_type": "markdown",
   "id": "54f2b186",
   "metadata": {},
   "source": [
    "### Инициализируем данные"
   ]
  },
  {
   "cell_type": "code",
   "execution_count": 12,
   "id": "65d6e22f",
   "metadata": {},
   "outputs": [],
   "source": [
    "\n",
    "X, y = make_regression(n_samples=50, n_features=1, noise=2, random_state=42)\n",
    "from sklearn.model_selection import train_test_split\n",
    "\n",
    "train_X, test_X, train_y, test_y = train_test_split(X, \n",
    "                                       y, \n",
    "                                       test_size=0.3,\n",
    "                                       random_state=1)"
   ]
  },
  {
   "cell_type": "code",
   "execution_count": 13,
   "id": "539814c9",
   "metadata": {},
   "outputs": [],
   "source": [
    "random_forest, bootstraps = fit_random_forest(train_X, train_y, 5)"
   ]
  },
  {
   "cell_type": "code",
   "execution_count": 14,
   "id": "15acd67e",
   "metadata": {},
   "outputs": [],
   "source": [
    "def RF_PRED(forest, test_data, test_y, ):\n",
    "    pred_trees = []\n",
    "    pred_mean_y = []\n",
    "    for tree in forest:\n",
    "        pred_trees.append(predict(test_data, tree))\n",
    "    \n",
    "    pred_trees = np.array(pred_trees)\n",
    "    for i in range(len(test_y)):\n",
    "        pred_mean_y.append((pred_trees[0,i]+pred_trees[1,i]+pred_trees[2,i]+pred_trees[3,i]+pred_trees[4,i])/5)\n",
    "        \n",
    "    return pred_trees, pred_mean_y"
   ]
  },
  {
   "cell_type": "code",
   "execution_count": 15,
   "id": "61b36f61",
   "metadata": {},
   "outputs": [],
   "source": [
    "pred_trees, pred_mean_y = RF_PRED(random_forest, test_X, test_y)"
   ]
  },
  {
   "cell_type": "code",
   "execution_count": 16,
   "id": "024a909f",
   "metadata": {},
   "outputs": [
    {
     "data": {
      "text/plain": [
       "0.8738846052276187"
      ]
     },
     "execution_count": 16,
     "metadata": {},
     "output_type": "execute_result"
    }
   ],
   "source": [
    "r2_score(test_y, pred_mean_y)"
   ]
  },
  {
   "cell_type": "code",
   "execution_count": null,
   "id": "4537d2b1",
   "metadata": {},
   "outputs": [],
   "source": []
  }
 ],
 "metadata": {
  "kernelspec": {
   "display_name": "Python 3 (ipykernel)",
   "language": "python",
   "name": "python3"
  },
  "language_info": {
   "codemirror_mode": {
    "name": "ipython",
    "version": 3
   },
   "file_extension": ".py",
   "mimetype": "text/x-python",
   "name": "python",
   "nbconvert_exporter": "python",
   "pygments_lexer": "ipython3",
   "version": "3.9.7"
  }
 },
 "nbformat": 4,
 "nbformat_minor": 5
}
