{
 "cells": [
  {
   "cell_type": "markdown",
   "id": "39c3d202",
   "metadata": {},
   "source": [
    "## Дерево решений (CART algorithm)\n",
    "\n"
   ]
  },
  {
   "cell_type": "markdown",
   "id": "e7d4ecf4",
   "metadata": {},
   "source": [
    "В данном примере примере рассмотрим алгоритм дерева решений для задач регрессии. \n",
    "\n",
    "     В качестве алгоритма используем алгоритм CART, т.к. он наиболее гибкий, может решать задачи как регрессии, так и классификации.\n",
    "Данный алгоритм разбивает данные и по категориальным признакам и по непрерывным. В процессе роста дерева алгоритм CART проводит для каждого узла полный перебор всех атрибутов, на основе которых может быть построено разбиение, и выбирает тот, который максимизирует значение *Прироста информации*\n",
    "\n",
    " - Для задач классификации в качестве *критерия информативности* обычно используется критерий Джинни \n",
    "\n",
    " - Для задач регрессии можно в качестве *критерия информативности* использовать MSE, MAE \n",
    "\n",
    "Основная идея алгоритма заключается в том, чтобы выбрать такое разбиение из всех возможных в данном узле, чтобы полученные дочерние узлы были максимально однородными. При этом каждое разбиение производится только по одному атрибуту.\n",
    "\n",
    "Алгоритм CART предназначен для построения бинарного дерева решений. Бинарные (двоичные) деревья — деревья, каждый узел которых при разбиении имеет только двух потомков."
   ]
  },
  {
   "cell_type": "markdown",
   "id": "7d2ac7a0",
   "metadata": {},
   "source": [
    "### Немного о идее предсказания непрерывной величины (Дерево решений для задач регрессии)\n",
    "- 1) Создается корневой узел\n",
    "- 2) выбирается первый признак, по которому будет идти разбиение объектов.\n",
    "- 3) у данного признака выбираются все возможные \"Пороговые значения\", по которым будут разбиваться данные\n",
    "- 4) При каждом потенциальном разбиении рассчитывается прирост информации.\n",
    "\n",
    "$$Q(X_{m}, j, t) = H(X_{m}) - \\frac{|X_{l}|}{|X_{m}|}H(X_{l}) - \\frac{|X_{r}|}{|X_{m}|}H(X_{r}),$$\n",
    "\n",
    "В случае **регрессии** разброс будет характеризоваться дисперсией или же *среднеквадратичным отклонением*, поэтому критерий информативности будет записан в виде\n",
    "\n",
    "$$H(X) = \\frac{1}{X}\\sum_{i\\in X}(y_{i} - \\bar{y}(X))^{2},$$\n",
    " \n",
    " - 5) Находим \"лучшее\" пороговое значение и признак, которые обеспечивают максимум прироста инфромации. \n",
    " - 6) Разбиваем наш узел на два потомка (Алгоритм CART является бинарным и создает двоичное дерево, узел делится на два потомка)\n",
    " - 7) Когда доходим до листа (Создать лист можно разными путями, о критериях останова поговорим позже), в качестве предсказания в листе берем среднее по объектам в листе целевой переменной (Задача регрессии)"
   ]
  },
  {
   "cell_type": "markdown",
   "id": "1a2d4c1c",
   "metadata": {},
   "source": [
    "### Критерии останова:\n",
    "- 1) Минимальное количество объектов в листе (избавляемся от переобучения)\n",
    "- 2) Глубина дерева\n",
    "- 3) Прирост информации равен нулю или совсем незначительный\n",
    "- 4) Количество листьев"
   ]
  },
  {
   "cell_type": "markdown",
   "id": "4e984740",
   "metadata": {},
   "source": [
    "### Реализация"
   ]
  },
  {
   "cell_type": "markdown",
   "id": "4e3ddfb1",
   "metadata": {},
   "source": [
    "- Для работы с данным я использую две библиотеки, это numpy и pandas"
   ]
  },
  {
   "cell_type": "code",
   "execution_count": 1,
   "id": "b4c050ca",
   "metadata": {},
   "outputs": [],
   "source": [
    "import numpy as np\n",
    "import pandas as pd"
   ]
  },
  {
   "cell_type": "markdown",
   "id": "89971fde",
   "metadata": {},
   "source": [
    "- Реализация функции рассчитывающей MSE"
   ]
  },
  {
   "cell_type": "code",
   "execution_count": 2,
   "id": "d688bef7",
   "metadata": {},
   "outputs": [],
   "source": [
    "def mse(y):\n",
    "    return np.mean((y - y.mean())**2)"
   ]
  },
  {
   "cell_type": "markdown",
   "id": "ae27389a",
   "metadata": {},
   "source": [
    "- Функция рассчитывающая прирост информации"
   ]
  },
  {
   "cell_type": "code",
   "execution_count": 3,
   "id": "4192cc31",
   "metadata": {},
   "outputs": [],
   "source": [
    "def gain(mse_root, right_data, left_data):\n",
    "    p = float(right_data.shape[0]) / (right_data.shape[0] + left_data.shape[0])\n",
    "    return mse_root - p*mse(right_data) - (1-p)*mse(left_data)"
   ]
  },
  {
   "cell_type": "markdown",
   "id": "306d34a0",
   "metadata": {},
   "source": [
    "- Функция разбиения объектов узла на две выборки"
   ]
  },
  {
   "cell_type": "code",
   "execution_count": 4,
   "id": "fd372cbf",
   "metadata": {},
   "outputs": [],
   "source": [
    "def split(X, y, index, t):\n",
    "    \n",
    "    left = np.where(X[:, index] <= t)\n",
    "    right = np.where(X[:, index] > t)\n",
    "    \n",
    "    true_data = X[left]\n",
    "    false_data = X[right]\n",
    "    \n",
    "    true_pred = y[left]\n",
    "    false_pred = y[right]\n",
    "    \n",
    "    return false_data, true_data, false_pred, true_pred"
   ]
  },
  {
   "cell_type": "markdown",
   "id": "511aa679",
   "metadata": {},
   "source": [
    "- Функция, которая находит наилучшее разбиение"
   ]
  },
  {
   "cell_type": "code",
   "execution_count": 5,
   "id": "af5a69e1",
   "metadata": {},
   "outputs": [],
   "source": [
    "def find_best_split(X, y):\n",
    "    # Минимальное количество элементов в узле = 5\n",
    "    min_samples_leaf = 5\n",
    "    \n",
    "    best_gain = 0\n",
    "    \n",
    "    best_t = None # Лучшее пороговое значение\n",
    "    best_index = None # Индекс лучшего признака\n",
    "    \n",
    "    root_mse = mse(y) # Критерий информативности у предка\n",
    "    \n",
    "    n_features = X.shape[1] # Кол. признаков\n",
    "    for index in range(n_features):\n",
    "        \n",
    "        t_values = np.unique(X[:, index])\n",
    "        \n",
    "        for t in t_values:\n",
    "            false_data, true_data, false_pred, true_pred  = split(X, y, index, t)\n",
    "            \n",
    "            if len(false_data) < min_samples_leaf or len(true_data) < min_samples_leaf: # Критерий останова\n",
    "                continue\n",
    "                \n",
    "            current_gain = gain(root_mse, false_pred, true_pred) # Текущий прирост инфрмации\n",
    "            \n",
    "            if current_gain > best_gain: # Лучший прирост информации\n",
    "                best_gain = current_gain\n",
    "                best_t = t\n",
    "                best_index = index\n",
    "        \n",
    "    return best_gain, best_t, best_index "
   ]
  },
  {
   "cell_type": "code",
   "execution_count": 6,
   "id": "313c2017",
   "metadata": {},
   "outputs": [],
   "source": [
    "def build_tree(X, y): # Рекурсивное построение дерева\n",
    "    gain, t, index = find_best_split(X, y)\n",
    "    print(gain, t)\n",
    "    if gain == 0:\n",
    "        return Leaf(X, y)\n",
    "    false_data, true_data, false_pred, true_pred = split(X, y, index, t)\n",
    "    \n",
    "    true_branch = build_tree(true_data, true_pred)\n",
    "    \n",
    "    false_branch = build_tree(false_data, false_pred)\n",
    "    \n",
    "    return Node(index, t, true_branch, false_branch)"
   ]
  },
  {
   "cell_type": "code",
   "execution_count": 7,
   "id": "b5ae59ad",
   "metadata": {},
   "outputs": [],
   "source": [
    "class Node: # Реализация класса узла\n",
    "    def __init__(self, index, t, true_branch, false_branch):\n",
    "        self.index = index #Индекс признака, по которому мы сравниваем значения с пороговым\n",
    "        self.t = t #пороговое значение\n",
    "        self.true_branch = true_branch # Поддерево удовлетворяещее условию \n",
    "        self.false_branch = false_branch # Поддерево не удовлетворяещее условию \n",
    "    "
   ]
  },
  {
   "cell_type": "code",
   "execution_count": 8,
   "id": "dd11a05f",
   "metadata": {},
   "outputs": [],
   "source": [
    "class Leaf: # Реализация класса листа\n",
    "    def __init__(self, X, y):\n",
    "        self.X = X\n",
    "        self.y = y\n",
    "        self.predict = self.y.mean() # В качестве ответа, берем среднее"
   ]
  },
  {
   "cell_type": "code",
   "execution_count": 9,
   "id": "9e9eb11e",
   "metadata": {},
   "outputs": [],
   "source": [
    "from sklearn.datasets import make_regression # С помощью данной библиотеки создаем рандомный датасет "
   ]
  },
  {
   "cell_type": "code",
   "execution_count": 10,
   "id": "b0a2e8c6",
   "metadata": {},
   "outputs": [],
   "source": [
    "# У нас будет 2 признака, и оба будут корреллировать с целевой переменной\n",
    "X, y = make_regression(n_features=2, n_informative=2, random_state=5)"
   ]
  },
  {
   "cell_type": "code",
   "execution_count": 11,
   "id": "70ce782d",
   "metadata": {},
   "outputs": [],
   "source": [
    "from sklearn.model_selection import train_test_split\n",
    "# Разбиваем на выборку на тестовую \n",
    "train_X, test_X, train_y, test_y = train_test_split(X, \n",
    "                                       y, \n",
    "                                       test_size=0.3,\n",
    "                                       random_state=1)"
   ]
  },
  {
   "cell_type": "code",
   "execution_count": 12,
   "id": "db50fe99",
   "metadata": {},
   "outputs": [
    {
     "data": {
      "text/plain": [
       "array([[-0.68956523, -1.31077313],\n",
       "       [ 0.30364847, -1.69367504],\n",
       "       [ 0.70979786,  2.07361553],\n",
       "       [-0.0347021 ,  2.23327081],\n",
       "       [ 0.61784475,  0.91011056],\n",
       "       [-2.24911813, -0.36840953],\n",
       "       [ 0.72695326, -1.23238611],\n",
       "       [ 0.71242127,  0.99643983],\n",
       "       [ 1.56153229, -0.08687561],\n",
       "       [ 0.12480683,  0.65661947],\n",
       "       [-0.50175555,  1.14150774],\n",
       "       [-1.42192455, -0.37562084],\n",
       "       [-0.82412345, -0.24071114],\n",
       "       [-0.23998173,  0.02421074],\n",
       "       [ 1.01813761,  0.49832921],\n",
       "       [ 0.10134479,  0.46770521],\n",
       "       [ 0.64484751, -1.51117956],\n",
       "       [ 1.46309548,  0.74715259],\n",
       "       [-0.2434197 , -0.59835993],\n",
       "       [ 0.22125412,  1.41339802],\n",
       "       [ 0.7893664 , -2.85968797],\n",
       "       [-1.11840643, -0.30100513],\n",
       "       [ 0.46510099,  1.40216662],\n",
       "       [-0.10061435, -0.33633626],\n",
       "       [-0.63157163,  0.79305332],\n",
       "       [ 2.26010677, -0.10716398],\n",
       "       [-0.70017904, -1.66478853],\n",
       "       [-0.59163666, -0.9092324 ],\n",
       "       [-0.32986996,  0.18760323],\n",
       "       [-0.47773142, -0.30585302],\n",
       "       [ 0.54856784, -0.64635659],\n",
       "       [ 0.01275832,  0.56813272],\n",
       "       [ 2.52080763, -0.84646862],\n",
       "       [ 0.41367881, -0.56705117],\n",
       "       [-0.10106761, -0.00619491],\n",
       "       [-0.07359332,  1.18906073],\n",
       "       [-1.39707402, -1.16470191],\n",
       "       [ 0.77690759,  0.74572695],\n",
       "       [ 1.15220477, -0.57751323],\n",
       "       [ 0.52184949,  0.30560017],\n",
       "       [-0.48212019, -0.44542999],\n",
       "       [-0.71116323, -0.76076031],\n",
       "       [-0.28143012,  0.81613236],\n",
       "       [-0.57321556, -1.26408334],\n",
       "       [-1.30095145, -0.88942073],\n",
       "       [-0.42703139,  1.82136474],\n",
       "       [-0.22418983, -0.14312642],\n",
       "       [ 0.24921766, -0.05230815],\n",
       "       [ 1.46520488,  1.73844881],\n",
       "       [ 0.34691933,  2.08851469],\n",
       "       [-0.48713265,  0.04595522],\n",
       "       [ 0.4944404 ,  1.13934298],\n",
       "       [ 0.87715281, -1.5996985 ],\n",
       "       [-0.85685315, -0.98060789],\n",
       "       [ 0.17076445,  0.79242262],\n",
       "       [ 0.44295626,  1.4438811 ],\n",
       "       [ 0.39042061, -1.06503262],\n",
       "       [-2.38669774, -0.05935198],\n",
       "       [-0.81391201,  1.22217056],\n",
       "       [ 0.78823794, -0.59340277],\n",
       "       [ 1.14720208,  0.24981732],\n",
       "       [-0.10593044,  0.00328884],\n",
       "       [ 0.50048733,  0.49355766],\n",
       "       [ 0.35543847,  0.10073819],\n",
       "       [-0.17170905, -1.03849524],\n",
       "       [-0.81262476, -0.40751917],\n",
       "       [ 0.90688947, -0.9955963 ],\n",
       "       [-1.16727845, -2.33562182],\n",
       "       [ 1.29196338,  0.26961241],\n",
       "       [ 1.33484857,  0.19766009]])"
      ]
     },
     "execution_count": 12,
     "metadata": {},
     "output_type": "execute_result"
    }
   ],
   "source": [
    "train_X # обучающие данные"
   ]
  },
  {
   "cell_type": "code",
   "execution_count": 13,
   "id": "aed6fe49",
   "metadata": {},
   "outputs": [],
   "source": [
    "# Напечатаем ход нашего дерева\n",
    "def print_tree(node, spacing=\"\"):\n",
    "\n",
    "    # Если лист, то выводим его прогноз\n",
    "    if isinstance(node, Leaf):\n",
    "        print(spacing + \"Прогноз:\", node.predict)\n",
    "        return\n",
    "\n",
    "    # Выведем значение индекса и порога на этом узле\n",
    "    print(spacing + 'Индекс', str(node.index), '<=', str(node.t))\n",
    "\n",
    "    # Рекурсионный вызов функции на положительном поддереве\n",
    "    print (spacing + '--> True:')\n",
    "    print_tree(node.true_branch, spacing + \"  \")\n",
    "\n",
    "    # Рекурсионный вызов функции на отрицательном поддереве\n",
    "    print (spacing + '--> False:')\n",
    "    print_tree(node.false_branch, spacing + \"  \")"
   ]
  },
  {
   "cell_type": "code",
   "execution_count": 14,
   "id": "f84fa6c3",
   "metadata": {},
   "outputs": [
    {
     "name": "stdout",
     "output_type": "stream",
     "text": [
      "2568.7160785722854 -0.10061434630710828\n",
      "1163.2109911108628 -0.8568531547160899\n",
      "0 None\n",
      "326.71093059773955 -0.5732155560138283\n",
      "0 None\n",
      "77.16315558224487 -0.3058530211666308\n",
      "0 None\n",
      "0 None\n",
      "874.5765593743881 0.9068894675659355\n",
      "254.65942732458615 0.6566194702604272\n",
      "72.57421985416381 -1.0650326193820066\n",
      "0 None\n",
      "88.86004472825994 0.41367880834311616\n",
      "0 None\n",
      "0 None\n",
      "146.27503374857227 0.34691932708774675\n",
      "0 None\n",
      "0 None\n",
      "512.3612547795437 1.3348485742415819\n",
      "0 None\n",
      "0 None\n",
      "Индекс 0 <= -0.10061434630710828\n",
      "--> True:\n",
      "  Индекс 0 <= -0.8568531547160899\n",
      "  --> True:\n",
      "    Прогноз: -109.75655471490919\n",
      "  --> False:\n",
      "    Индекс 0 <= -0.5732155560138283\n",
      "    --> True:\n",
      "      Прогноз: -54.35634172577482\n",
      "    --> False:\n",
      "      Индекс 1 <= -0.3058530211666308\n",
      "      --> True:\n",
      "        Прогноз: -29.105630694331246\n",
      "      --> False:\n",
      "        Прогноз: -10.772916465924025\n",
      "--> False:\n",
      "  Индекс 0 <= 0.9068894675659355\n",
      "  --> True:\n",
      "    Индекс 1 <= 0.6566194702604272\n",
      "    --> True:\n",
      "      Индекс 1 <= -1.0650326193820066\n",
      "      --> True:\n",
      "        Прогноз: 7.798014762375311\n",
      "      --> False:\n",
      "        Индекс 0 <= 0.41367880834311616\n",
      "        --> True:\n",
      "          Прогноз: 17.019366109004093\n",
      "        --> False:\n",
      "          Прогноз: 35.95087900163848\n",
      "    --> False:\n",
      "      Индекс 0 <= 0.34691932708774675\n",
      "      --> True:\n",
      "        Прогноз: 37.4238776327042\n",
      "      --> False:\n",
      "        Прогноз: 61.9558421220885\n",
      "  --> False:\n",
      "    Индекс 0 <= 1.3348485742415819\n",
      "    --> True:\n",
      "      Прогноз: 77.83232966482356\n",
      "    --> False:\n",
      "      Прогноз: 123.1031262020856\n"
     ]
    }
   ],
   "source": [
    "my_tree = build_tree(train_X, train_y)\n",
    "print_tree(my_tree)"
   ]
  },
  {
   "cell_type": "code",
   "execution_count": 15,
   "id": "6ef15e91",
   "metadata": {},
   "outputs": [],
   "source": [
    "#Функция предсказания, возращает массив ответов\n",
    "def predict(data, tree):\n",
    "    \n",
    "    prediction_y = list()\n",
    "    for obj in data:\n",
    "        prediction = classify_object(obj, tree)\n",
    "        prediction_y.append(prediction)\n",
    "    return prediction_y"
   ]
  },
  {
   "cell_type": "code",
   "execution_count": 16,
   "id": "4ca95d39",
   "metadata": {},
   "outputs": [],
   "source": [
    "\n",
    "def classify_object(obj, node):\n",
    "\n",
    "    #  Останавливаем рекурсию, если достигли листа\n",
    "    if isinstance(node, Leaf):\n",
    "        answer = node.predict\n",
    "        return answer\n",
    "\n",
    "    if obj[node.index] <= node.t:\n",
    "        return classify_object(obj, node.true_branch)\n",
    "    else:\n",
    "        return classify_object(obj, node.false_branch)"
   ]
  },
  {
   "cell_type": "code",
   "execution_count": 17,
   "id": "73e2d911",
   "metadata": {},
   "outputs": [],
   "source": [
    "y_pred_train = predict(train_X, my_tree)"
   ]
  },
  {
   "cell_type": "code",
   "execution_count": 18,
   "id": "bb0baae1",
   "metadata": {},
   "outputs": [],
   "source": [
    "y_pred_test = predict(test_X, my_tree)"
   ]
  },
  {
   "cell_type": "code",
   "execution_count": 19,
   "id": "4e9a9e0d",
   "metadata": {},
   "outputs": [],
   "source": [
    "y_pred_test = np.array(y_pred_test)"
   ]
  },
  {
   "cell_type": "code",
   "execution_count": 20,
   "id": "a8de2ea8",
   "metadata": {},
   "outputs": [],
   "source": [
    "from sklearn.metrics import r2_score"
   ]
  },
  {
   "cell_type": "code",
   "execution_count": 21,
   "id": "c0edbf50",
   "metadata": {},
   "outputs": [
    {
     "data": {
      "text/plain": [
       "(0.9473030504970069, 0.8558102546515577)"
      ]
     },
     "execution_count": 21,
     "metadata": {},
     "output_type": "execute_result"
    }
   ],
   "source": [
    "r2_score(train_y, y_pred_train), r2_score(test_y, y_pred_test)"
   ]
  },
  {
   "cell_type": "markdown",
   "id": "3420d3aa",
   "metadata": {},
   "source": [
    "### Визуализируем наши ответы"
   ]
  },
  {
   "cell_type": "code",
   "execution_count": 22,
   "id": "124f9b76",
   "metadata": {},
   "outputs": [],
   "source": [
    "import matplotlib.pyplot as plt"
   ]
  },
  {
   "cell_type": "code",
   "execution_count": 56,
   "id": "44171f14",
   "metadata": {},
   "outputs": [
    {
     "data": {
      "image/png": "[encoded data removed]",
      "text/plain": [
       "<Figure size 1152x576 with 2 Axes>"
      ]
     },
     "metadata": {
      "needs_background": "light"
     },
     "output_type": "display_data"
    }
   ],
   "source": [
    "plt.figure(figsize=(16,8))\n",
    "plt.subplot(1,2,1)\n",
    "\n",
    "plt.title(f'Train r2_score=0.94')\n",
    "plt.scatter(train_X[:, 0], train_y)\n",
    "plt.scatter(train_X[:, 0], y_pred_train)\n",
    "plt.legend(['Real', 'Pred']);\n",
    "\n",
    "plt.subplot(1,2,2)\n",
    "plt.title(f'Test r2_score=0.85')\n",
    "plt.scatter(test_X[:, 0], test_y)\n",
    "plt.scatter(test_X[:, 0], y_pred_test)\n",
    "plt.legend(['Real', 'Pred']);\n",
    "plt.show()"
   ]
  },
  {
   "cell_type": "markdown",
   "id": "6eae5cd9",
   "metadata": {},
   "source": [
    "## Вывод: Дерево неплохо справилось с задачей регрессии, на визуализации напоминает чем-то на квантование, хотя им и не является. В качестве критерия оценивания я взял R2-Score, на учебной выборке он составил 0.94, на тестовой 0.85."
   ]
  },
  {
   "cell_type": "code",
   "execution_count": null,
   "id": "73924d87",
   "metadata": {},
   "outputs": [],
   "source": []
  }
 ],
 "metadata": {
  "kernelspec": {
   "display_name": "Python 3 (ipykernel)",
   "language": "python",
   "name": "python3"
  },
  "language_info": {
   "codemirror_mode": {
    "name": "ipython",
    "version": 3
   },
   "file_extension": ".py",
   "mimetype": "text/x-python",
   "name": "python",
   "nbconvert_exporter": "python",
   "pygments_lexer": "ipython3",
   "version": "3.9.7"
  }
 },
 "nbformat": 4,
 "nbformat_minor": 5
}
