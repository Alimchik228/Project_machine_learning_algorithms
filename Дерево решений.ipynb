{
 "cells": [
  {
   "cell_type": "code",
   "execution_count": 1,
   "id": "b4c050ca",
   "metadata": {},
   "outputs": [],
   "source": [
    "import numpy as np\n",
    "import pandas as pd"
   ]
  },
  {
   "cell_type": "code",
   "execution_count": 2,
   "id": "d688bef7",
   "metadata": {},
   "outputs": [],
   "source": [
    "def mse(y):\n",
    "    mean = y.mean()\n",
    "    return np.mean((y - mean)**2)"
   ]
  },
  {
   "cell_type": "code",
   "execution_count": 3,
   "id": "4192cc31",
   "metadata": {},
   "outputs": [],
   "source": [
    "def gain(root_data, right_data, left_data):\n",
    "    p = right_data.shape[0] / (right_data.shape[0] + left_data.shape[0])\n",
    "    return mse(root_data) - p*mse(right_data) - (p-1)*mse(left_data)"
   ]
  },
  {
   "cell_type": "code",
   "execution_count": 4,
   "id": "fd372cbf",
   "metadata": {},
   "outputs": [],
   "source": [
    "def split(X, y, index, t):\n",
    "    \n",
    "    left = np.where(X[:, index] <= t)\n",
    "    right = np.where(X[:, index] > t)\n",
    "    \n",
    "    false_data = X[right]\n",
    "    true_data = X[left]\n",
    "    \n",
    "    false_pred = y[right]\n",
    "    true_pred = y[left]\n",
    "    \n",
    "    return false_data, true_data, false_pred, true_pred"
   ]
  },
  {
   "cell_type": "code",
   "execution_count": 5,
   "id": "af5a69e1",
   "metadata": {},
   "outputs": [],
   "source": [
    "def find_best_split(X, y):\n",
    "    \n",
    "    min_samples_leaf = 2\n",
    "    \n",
    "    best_gain = 0\n",
    "    best_t = None\n",
    "    best_index = None\n",
    "    \n",
    "    n_features = X.shape[1]\n",
    "    for index in range(n_features):\n",
    "        \n",
    "        t_values = np.unique(X[:, index])\n",
    "        \n",
    "        for t in t_values:\n",
    "            false_data, true_data, false_pred, true_pred  = split(X, y, index, t)\n",
    "            \n",
    "            if len(false_data) < min_samples_leaf or len(true_data) < min_samples_leaf:\n",
    "                continue\n",
    "                \n",
    "            current_gain = gain(y, false_pred, true_pred)\n",
    "            \n",
    "            if current_gain > best_gain:\n",
    "                best_gain = current_gain\n",
    "                best_t = t\n",
    "                best_index = index\n",
    "        \n",
    "    return best_gain, best_t, best_index "
   ]
  },
  {
   "cell_type": "code",
   "execution_count": 6,
   "id": "313c2017",
   "metadata": {},
   "outputs": [],
   "source": [
    "def build_tree(X, y):\n",
    "    gain, t, index = find_best_split(X, y)\n",
    "    print(gain, t)\n",
    "    if gain == 0:\n",
    "        return Leaf(X, y)\n",
    "    false_data, true_data, false_pred, true_pred = split(X, y, index, t)\n",
    "    \n",
    "    true_branch = build_tree(true_data, true_pred)\n",
    "    \n",
    "    false_branch = build_tree(false_data, false_pred)\n",
    "    \n",
    "    return Node(index, t, true_branch, false_branch)"
   ]
  },
  {
   "cell_type": "code",
   "execution_count": 7,
   "id": "b5ae59ad",
   "metadata": {},
   "outputs": [],
   "source": [
    "class Node:\n",
    "    def __init__(self, index, t, true_branch, false_branch):\n",
    "        self.index = index #Индекс признака, по которому мы сравниваем значения с пороговым\n",
    "        self.t = t #пороговое значение\n",
    "        self.true_branch = true_branch # Поддерево удовлетворяещее условию \n",
    "        self.false_branch = false_branch # Поддерево не удовлетворяещее условию \n",
    "    "
   ]
  },
  {
   "cell_type": "code",
   "execution_count": 8,
   "id": "dd11a05f",
   "metadata": {},
   "outputs": [],
   "source": [
    "class Leaf:\n",
    "    def __init__(self, X, y):\n",
    "        self.X = X\n",
    "        self.y = y\n",
    "        self.predict = self.y.mean()"
   ]
  },
  {
   "cell_type": "code",
   "execution_count": 9,
   "id": "9e9eb11e",
   "metadata": {},
   "outputs": [],
   "source": [
    "from sklearn.datasets import make_regression"
   ]
  },
  {
   "cell_type": "code",
   "execution_count": 10,
   "id": "b0a2e8c6",
   "metadata": {},
   "outputs": [],
   "source": [
    "X, y = make_regression(n_samples=50, n_features=1, noise=2, random_state=42)"
   ]
  },
  {
   "cell_type": "code",
   "execution_count": 11,
   "id": "70ce782d",
   "metadata": {},
   "outputs": [],
   "source": [
    "from sklearn.model_selection import train_test_split\n",
    "\n",
    "train_X, test_X, train_y, test_y = train_test_split(X, \n",
    "                                       y, \n",
    "                                       test_size=0.3,\n",
    "                                       random_state=1)"
   ]
  },
  {
   "cell_type": "code",
   "execution_count": 12,
   "id": "8fec0030",
   "metadata": {},
   "outputs": [
    {
     "data": {
      "text/plain": [
       "((35, 1), (15, 1), (35,), (15,))"
      ]
     },
     "execution_count": 12,
     "metadata": {},
     "output_type": "execute_result"
    }
   ],
   "source": [
    "train_X.shape, test_X.shape, train_y.shape, test_y.shape"
   ]
  },
  {
   "cell_type": "code",
   "execution_count": 13,
   "id": "2bf51e3c",
   "metadata": {},
   "outputs": [],
   "source": [
    "import matplotlib.pyplot as plt"
   ]
  },
  {
   "cell_type": "code",
   "execution_count": 14,
   "id": "e6fd46e5",
   "metadata": {},
   "outputs": [
    {
     "data": {
      "image/png": "[encoded data removed]",
      "text/plain": [
       "<Figure size 432x288 with 1 Axes>"
      ]
     },
     "metadata": {
      "needs_background": "light"
     },
     "output_type": "display_data"
    }
   ],
   "source": [
    "plt.scatter(test_X, test_y)\n",
    "plt.show()"
   ]
  },
  {
   "cell_type": "code",
   "execution_count": 15,
   "id": "f84fa6c3",
   "metadata": {},
   "outputs": [
    {
     "name": "stdout",
     "output_type": "stream",
     "text": [
      "274.0381229715157 1.0571222262189157\n",
      "221.8009279263216 0.7674347291529088\n",
      "183.41280396867253 0.37569801834567196\n",
      "156.67634688574253 0.24196227156603412\n",
      "138.67271445954125 0.11092258970986608\n",
      "118.8464900248263 -0.013497224737933921\n",
      "103.32855485788744 -0.22577630048653566\n",
      "94.70444144004163 -0.23415337472333597\n",
      "88.23383988217962 -0.3011036955892888\n",
      "81.37161413959672 -0.46572975357025687\n",
      "76.39799345409287 -0.5622875292409727\n",
      "65.28698775868503 -0.6017066122293969\n",
      "51.93599811714901 -1.0577109289559004\n",
      "43.39895323527264 -1.2208436499710222\n",
      "34.306166792938015 -1.4123037013352915\n",
      "14.786924089193866 -1.7249178325130328\n",
      "0 None\n",
      "0 None\n",
      "0 None\n",
      "0 None\n",
      "0 None\n",
      "0 None\n",
      "0 None\n",
      "0 None\n",
      "0 None\n",
      "0 None\n",
      "0 None\n",
      "0 None\n",
      "0 None\n",
      "0 None\n",
      "0 None\n",
      "0 None\n",
      "0 None\n"
     ]
    }
   ],
   "source": [
    "my_tree = build_tree(train_X, train_y)"
   ]
  },
  {
   "cell_type": "code",
   "execution_count": 16,
   "id": "6ef15e91",
   "metadata": {},
   "outputs": [],
   "source": [
    "def predict(data, tree):\n",
    "    \n",
    "    prediction_y = list()\n",
    "    for obj in data:\n",
    "        prediction = classify_object(obj, tree)\n",
    "        prediction_y.append(prediction)\n",
    "    return prediction_y"
   ]
  },
  {
   "cell_type": "code",
   "execution_count": 17,
   "id": "4ca95d39",
   "metadata": {},
   "outputs": [],
   "source": [
    "def classify_object(obj, node):\n",
    "\n",
    "    #  Останавливаем рекурсию, если достигли листа\n",
    "    if isinstance(node, Leaf):\n",
    "        answer = node.predict\n",
    "        return answer\n",
    "\n",
    "    if obj[node.index] <= node.t:\n",
    "        return classify_object(obj, node.true_branch)\n",
    "    else:\n",
    "        return classify_object(obj, node.false_branch)"
   ]
  },
  {
   "cell_type": "code",
   "execution_count": 22,
   "id": "73e2d911",
   "metadata": {},
   "outputs": [],
   "source": [
    "y_pred_train = predict(train_X, my_tree)"
   ]
  },
  {
   "cell_type": "code",
   "execution_count": 23,
   "id": "bb0baae1",
   "metadata": {},
   "outputs": [],
   "source": [
    "y_pred_test = predict(test_X, my_tree)"
   ]
  },
  {
   "cell_type": "code",
   "execution_count": 58,
   "id": "fecf8973",
   "metadata": {},
   "outputs": [
    {
     "data": {
      "image/png": "[encoded data removed]",
      "text/plain": [
       "<Figure size 432x288 with 1 Axes>"
      ]
     },
     "metadata": {
      "needs_background": "light"
     },
     "output_type": "display_data"
    }
   ],
   "source": [
    "plt.scatter(test_X, test_y)\n",
    "plt.scatter(test_X, y_pred_test)\n",
    "plt.show()"
   ]
  },
  {
   "cell_type": "code",
   "execution_count": 68,
   "id": "4e9a9e0d",
   "metadata": {},
   "outputs": [],
   "source": [
    "y_pred_test = np.array(y_pred_test)"
   ]
  },
  {
   "cell_type": "raw",
   "id": "987835bf",
   "metadata": {},
   "source": [
    "from sklearn.metrics import r2_score"
   ]
  },
  {
   "cell_type": "code",
   "execution_count": 73,
   "id": "c0edbf50",
   "metadata": {},
   "outputs": [
    {
     "data": {
      "text/plain": [
       "0.9534284104232559"
      ]
     },
     "execution_count": 73,
     "metadata": {},
     "output_type": "execute_result"
    }
   ],
   "source": [
    "r2_score(test_y, y_pred_test)"
   ]
  },
  {
   "cell_type": "code",
   "execution_count": null,
   "id": "44171f14",
   "metadata": {},
   "outputs": [],
   "source": []
  }
 ],
 "metadata": {
  "kernelspec": {
   "display_name": "Python 3 (ipykernel)",
   "language": "python",
   "name": "python3"
  },
  "language_info": {
   "codemirror_mode": {
    "name": "ipython",
    "version": 3
   },
   "file_extension": ".py",
   "mimetype": "text/x-python",
   "name": "python",
   "nbconvert_exporter": "python",
   "pygments_lexer": "ipython3",
   "version": "3.9.7"
  }
 },
 "nbformat": 4,
 "nbformat_minor": 5
}
