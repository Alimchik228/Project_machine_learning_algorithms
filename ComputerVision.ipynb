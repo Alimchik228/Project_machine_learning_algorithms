{
 "cells": [
  {
   "cell_type": "markdown",
   "id": "5df596be",
   "metadata": {},
   "source": [
    "### Импорт библиотек"
   ]
  },
  {
   "cell_type": "code",
   "execution_count": 52,
   "id": "8c45681b",
   "metadata": {},
   "outputs": [],
   "source": [
    "import numpy as np\n",
    "import matplotlib.pyplot as plt\n",
    "from keras.utils import to_categorical"
   ]
  },
  {
   "cell_type": "markdown",
   "id": "26276c0b",
   "metadata": {},
   "source": [
    "### Загрузка данных"
   ]
  },
  {
   "cell_type": "code",
   "execution_count": 10,
   "id": "f4093b64",
   "metadata": {},
   "outputs": [],
   "source": [
    "import mnist"
   ]
  },
  {
   "cell_type": "code",
   "execution_count": 8,
   "id": "c4455018",
   "metadata": {},
   "outputs": [],
   "source": [
    "train_images = mnist.train_images()\n",
    "train_labels = mnist.train_labels()\n",
    "test_images = mnist.test_images()\n",
    "test_labels = mnist.test_labels()"
   ]
  },
  {
   "cell_type": "code",
   "execution_count": 17,
   "id": "5357c5d3",
   "metadata": {},
   "outputs": [
    {
     "data": {
      "text/plain": [
       "array([5, 0, 4, ..., 5, 6, 8], dtype=uint8)"
      ]
     },
     "execution_count": 17,
     "metadata": {},
     "output_type": "execute_result"
    }
   ],
   "source": [
    "train_labels"
   ]
  },
  {
   "cell_type": "markdown",
   "id": "2a7c69ca",
   "metadata": {},
   "source": [
    "### Подготовка данных"
   ]
  },
  {
   "cell_type": "markdown",
   "id": "2077b277",
   "metadata": {},
   "source": [
    "Нормализация к виду -0.5 до 0.5"
   ]
  },
  {
   "cell_type": "code",
   "execution_count": 11,
   "id": "6fa1e83b",
   "metadata": {},
   "outputs": [],
   "source": [
    "train_images = (train_images / 255) - 0.5\n",
    "test_images = (test_images / 255) - 0.5"
   ]
  },
  {
   "cell_type": "markdown",
   "id": "dbc22baf",
   "metadata": {},
   "source": [
    "Одна картинка - вектор длины 784 пикселя"
   ]
  },
  {
   "cell_type": "code",
   "execution_count": 13,
   "id": "0d197e6a",
   "metadata": {},
   "outputs": [],
   "source": [
    "train_images = train_images.reshape((-1, 784))\n",
    "test_images = test_images.reshape((-1, 784))"
   ]
  },
  {
   "cell_type": "markdown",
   "id": "fe26c073",
   "metadata": {},
   "source": [
    "### Самописная двухслойная нейронная сеть"
   ]
  },
  {
   "cell_type": "code",
   "execution_count": 24,
   "id": "54a8b56a",
   "metadata": {},
   "outputs": [],
   "source": [
    "def sigmoid(x):\n",
    "    return 1/(1+np.exp(-x))\n",
    "\n",
    "def sigmoid_deriv(x):\n",
    "    return sigmoid(x)*(1 - sigmoid(x))"
   ]
  },
  {
   "cell_type": "code",
   "execution_count": 43,
   "id": "a3f881e3",
   "metadata": {},
   "outputs": [],
   "source": [
    "class AI2:\n",
    "    def __init__(self):\n",
    "        self.w0 = np.array([])\n",
    "        self.w1 = np.array([])\n",
    "    \n",
    "    def fit(self, X, y, w0, w1, iteration, alpha):\n",
    "        for i in range(iteration):\n",
    "            # прямое распространение(feed forward)\n",
    "            layer0 = X\n",
    "            layer1 = sigmoid(np.dot(layer0, w0))\n",
    "            layer2 = sigmoid(np.dot(layer1, w1))\n",
    "\n",
    "            # обратное распространение(back propagation) с использованием градиентного спуска\n",
    "            layer2_error = y - layer2\n",
    "            layer2_delta = layer2_error * sigmoid_deriv(layer2)\n",
    "\n",
    "            layer1_error = layer2_delta.dot(w1.T)\n",
    "            layer1_delta = layer1_error * sigmoid_deriv(layer1)\n",
    "\n",
    "            w1 += layer1.T.dot(layer2_delta) * alpha\n",
    "            w0 += layer0.T.dot(layer1_delta) * alpha\n",
    "\n",
    "            error = np.mean(np.abs(layer2_error))\n",
    "            accuracy = (1 - error) * 100\n",
    "\n",
    "            if i%10 == 0:\n",
    "                print('Ошибка:{}, Accuracy:{}'.format(error, accuracy))\n",
    "\n",
    "        self.w0 = w0\n",
    "        self.w1 = w1\n",
    "        \n",
    "    def predict(self, X):\n",
    "        layer0 = X\n",
    "        layer1 = sigmoid(np.dot(layer0,self.w0))\n",
    "        layer2 = sigmoid(np.dot(layer1,self.w1))\n",
    "        \n",
    "        return(layer2)"
   ]
  },
  {
   "cell_type": "markdown",
   "id": "1093c3ba",
   "metadata": {},
   "source": [
    "### Обучение"
   ]
  },
  {
   "cell_type": "code",
   "execution_count": 44,
   "id": "571cfb6a",
   "metadata": {},
   "outputs": [],
   "source": [
    "model = AI2()"
   ]
  },
  {
   "cell_type": "code",
   "execution_count": 45,
   "id": "58915e2e",
   "metadata": {},
   "outputs": [],
   "source": [
    "w0 = 2*np.random.random((784, 64)) - 1 # для входного слоя   - 784 входа, 64 выхода\n",
    "w1 = 2*np.random.random((64, 10)) - 1 # для внутреннего слоя - 64 входов, 10 выхода"
   ]
  },
  {
   "cell_type": "code",
   "execution_count": 46,
   "id": "eacbae28",
   "metadata": {},
   "outputs": [
    {
     "name": "stdout",
     "output_type": "stream",
     "text": [
      "Ошибка:0.4591901976216542, Accuracy:54.08098023783459\n"
     ]
    },
    {
     "name": "stderr",
     "output_type": "stream",
     "text": [
      "C:\\Users\\alimc\\AppData\\Local\\Temp/ipykernel_20356/1509215397.py:2: RuntimeWarning: overflow encountered in exp\n",
      "  return 1/(1+np.exp(-x))\n"
     ]
    },
    {
     "name": "stdout",
     "output_type": "stream",
     "text": [
      "Ошибка:0.10000057522777221, Accuracy:89.99994247722279\n",
      "Ошибка:0.10061756271635496, Accuracy:89.93824372836451\n",
      "Ошибка:0.46795549720933505, Accuracy:53.20445027906649\n",
      "Ошибка:0.11179073346779234, Accuracy:88.82092665322077\n",
      "Ошибка:0.17378817834382046, Accuracy:82.62118216561795\n",
      "Ошибка:0.11623782967281547, Accuracy:88.37621703271846\n",
      "Ошибка:0.09136361094505488, Accuracy:90.86363890549451\n",
      "Ошибка:0.06506639268615998, Accuracy:93.493360731384\n",
      "Ошибка:0.05187291188666087, Accuracy:94.8127088113339\n"
     ]
    }
   ],
   "source": [
    "model.fit(train_images, to_categorical(train_labels), w0, w1, 100, 0.001)"
   ]
  },
  {
   "cell_type": "markdown",
   "id": "208deed5",
   "metadata": {},
   "source": [
    "### Предсказание"
   ]
  },
  {
   "cell_type": "code",
   "execution_count": 49,
   "id": "0d51d99c",
   "metadata": {},
   "outputs": [
    {
     "name": "stderr",
     "output_type": "stream",
     "text": [
      "C:\\Users\\alimc\\AppData\\Local\\Temp/ipykernel_20356/1509215397.py:2: RuntimeWarning: overflow encountered in exp\n",
      "  return 1/(1+np.exp(-x))\n"
     ]
    }
   ],
   "source": [
    "y_pred = model.predict(test_images)"
   ]
  },
  {
   "cell_type": "code",
   "execution_count": 54,
   "id": "ac3c6439",
   "metadata": {},
   "outputs": [
    {
     "data": {
      "image/png": "[encoded data removed]",
      "text/plain": [
       "<Figure size 1080x360 with 5 Axes>"
      ]
     },
     "metadata": {
      "needs_background": "light"
     },
     "output_type": "display_data"
    }
   ],
   "source": [
    "N = 5\n",
    "y_pred_class = np.argmax(y_pred, axis=1)\n",
    "plt.figure(figsize=(3 * N, 5))\n",
    "\n",
    "for i in range(N):\n",
    "  plt.subplot(1, N, i+1)\n",
    "  plt.imshow(test_images[i,:].reshape(28, 28))\n",
    "  plt.xlabel(str(y_pred_class[i]))\n",
    "plt.show()"
   ]
  }
 ],
 "metadata": {
  "kernelspec": {
   "display_name": "Python 3 (ipykernel)",
   "language": "python",
   "name": "python3"
  },
  "language_info": {
   "codemirror_mode": {
    "name": "ipython",
    "version": 3
   },
   "file_extension": ".py",
   "mimetype": "text/x-python",
   "name": "python",
   "nbconvert_exporter": "python",
   "pygments_lexer": "ipython3",
   "version": "3.9.7"
  }
 },
 "nbformat": 4,
 "nbformat_minor": 5
}
