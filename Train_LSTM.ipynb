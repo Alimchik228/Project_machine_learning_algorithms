{
 "cells": [
  {
   "cell_type": "markdown",
   "id": "190211a9",
   "metadata": {},
   "source": [
    "## Импорт библиотек"
   ]
  },
  {
   "cell_type": "code",
   "execution_count": 1,
   "id": "0fa08c3a",
   "metadata": {},
   "outputs": [],
   "source": [
    "import math\n",
    "import matplotlib.pyplot as plt\n",
    "import keras\n",
    "import pandas as pd\n",
    "import numpy as np\n",
    "from keras.models import Sequential\n",
    "from keras.layers import Dense\n",
    "from keras.layers import LSTM\n",
    "from keras.layers import Dropout\n",
    "from keras.layers import *\n",
    "from sklearn.preprocessing import MinMaxScaler\n",
    "from sklearn.metrics import mean_squared_error\n",
    "from sklearn.metrics import mean_absolute_error"
   ]
  },
  {
   "cell_type": "markdown",
   "id": "43642969",
   "metadata": {},
   "source": [
    "## Загрузка датасета"
   ]
  },
  {
   "cell_type": "code",
   "execution_count": 2,
   "id": "be1f62cc",
   "metadata": {},
   "outputs": [
    {
     "data": {
      "text/html": [
       "<div>\n",
       "<style scoped>\n",
       "    .dataframe tbody tr th:only-of-type {\n",
       "        vertical-align: middle;\n",
       "    }\n",
       "\n",
       "    .dataframe tbody tr th {\n",
       "        vertical-align: top;\n",
       "    }\n",
       "\n",
       "    .dataframe thead th {\n",
       "        text-align: right;\n",
       "    }\n",
       "</style>\n",
       "<table border=\"1\" class=\"dataframe\">\n",
       "  <thead>\n",
       "    <tr style=\"text-align: right;\">\n",
       "      <th></th>\n",
       "      <th>Date</th>\n",
       "      <th>Open</th>\n",
       "      <th>High</th>\n",
       "      <th>Low</th>\n",
       "      <th>Close</th>\n",
       "      <th>Volume</th>\n",
       "      <th>Name</th>\n",
       "    </tr>\n",
       "  </thead>\n",
       "  <tbody>\n",
       "    <tr>\n",
       "      <th>0</th>\n",
       "      <td>2006-01-03</td>\n",
       "      <td>82.45</td>\n",
       "      <td>82.55</td>\n",
       "      <td>80.81</td>\n",
       "      <td>82.06</td>\n",
       "      <td>11715200</td>\n",
       "      <td>IBM</td>\n",
       "    </tr>\n",
       "    <tr>\n",
       "      <th>1</th>\n",
       "      <td>2006-01-04</td>\n",
       "      <td>82.20</td>\n",
       "      <td>82.50</td>\n",
       "      <td>81.33</td>\n",
       "      <td>81.95</td>\n",
       "      <td>9840600</td>\n",
       "      <td>IBM</td>\n",
       "    </tr>\n",
       "    <tr>\n",
       "      <th>2</th>\n",
       "      <td>2006-01-05</td>\n",
       "      <td>81.40</td>\n",
       "      <td>82.90</td>\n",
       "      <td>81.00</td>\n",
       "      <td>82.50</td>\n",
       "      <td>7213500</td>\n",
       "      <td>IBM</td>\n",
       "    </tr>\n",
       "    <tr>\n",
       "      <th>3</th>\n",
       "      <td>2006-01-06</td>\n",
       "      <td>83.95</td>\n",
       "      <td>85.03</td>\n",
       "      <td>83.41</td>\n",
       "      <td>84.95</td>\n",
       "      <td>8197400</td>\n",
       "      <td>IBM</td>\n",
       "    </tr>\n",
       "    <tr>\n",
       "      <th>4</th>\n",
       "      <td>2006-01-09</td>\n",
       "      <td>84.10</td>\n",
       "      <td>84.25</td>\n",
       "      <td>83.38</td>\n",
       "      <td>83.73</td>\n",
       "      <td>6858200</td>\n",
       "      <td>IBM</td>\n",
       "    </tr>\n",
       "    <tr>\n",
       "      <th>...</th>\n",
       "      <td>...</td>\n",
       "      <td>...</td>\n",
       "      <td>...</td>\n",
       "      <td>...</td>\n",
       "      <td>...</td>\n",
       "      <td>...</td>\n",
       "      <td>...</td>\n",
       "    </tr>\n",
       "    <tr>\n",
       "      <th>3015</th>\n",
       "      <td>2017-12-22</td>\n",
       "      <td>151.82</td>\n",
       "      <td>153.00</td>\n",
       "      <td>151.50</td>\n",
       "      <td>152.50</td>\n",
       "      <td>2990583</td>\n",
       "      <td>IBM</td>\n",
       "    </tr>\n",
       "    <tr>\n",
       "      <th>3016</th>\n",
       "      <td>2017-12-26</td>\n",
       "      <td>152.51</td>\n",
       "      <td>153.86</td>\n",
       "      <td>152.50</td>\n",
       "      <td>152.83</td>\n",
       "      <td>2479017</td>\n",
       "      <td>IBM</td>\n",
       "    </tr>\n",
       "    <tr>\n",
       "      <th>3017</th>\n",
       "      <td>2017-12-27</td>\n",
       "      <td>152.95</td>\n",
       "      <td>153.18</td>\n",
       "      <td>152.61</td>\n",
       "      <td>153.13</td>\n",
       "      <td>2149257</td>\n",
       "      <td>IBM</td>\n",
       "    </tr>\n",
       "    <tr>\n",
       "      <th>3018</th>\n",
       "      <td>2017-12-28</td>\n",
       "      <td>153.20</td>\n",
       "      <td>154.12</td>\n",
       "      <td>153.20</td>\n",
       "      <td>154.04</td>\n",
       "      <td>2687624</td>\n",
       "      <td>IBM</td>\n",
       "    </tr>\n",
       "    <tr>\n",
       "      <th>3019</th>\n",
       "      <td>2017-12-29</td>\n",
       "      <td>154.17</td>\n",
       "      <td>154.72</td>\n",
       "      <td>153.42</td>\n",
       "      <td>153.42</td>\n",
       "      <td>3327087</td>\n",
       "      <td>IBM</td>\n",
       "    </tr>\n",
       "  </tbody>\n",
       "</table>\n",
       "<p>3020 rows × 7 columns</p>\n",
       "</div>"
      ],
      "text/plain": [
       "            Date    Open    High     Low   Close    Volume Name\n",
       "0     2006-01-03   82.45   82.55   80.81   82.06  11715200  IBM\n",
       "1     2006-01-04   82.20   82.50   81.33   81.95   9840600  IBM\n",
       "2     2006-01-05   81.40   82.90   81.00   82.50   7213500  IBM\n",
       "3     2006-01-06   83.95   85.03   83.41   84.95   8197400  IBM\n",
       "4     2006-01-09   84.10   84.25   83.38   83.73   6858200  IBM\n",
       "...          ...     ...     ...     ...     ...       ...  ...\n",
       "3015  2017-12-22  151.82  153.00  151.50  152.50   2990583  IBM\n",
       "3016  2017-12-26  152.51  153.86  152.50  152.83   2479017  IBM\n",
       "3017  2017-12-27  152.95  153.18  152.61  153.13   2149257  IBM\n",
       "3018  2017-12-28  153.20  154.12  153.20  154.04   2687624  IBM\n",
       "3019  2017-12-29  154.17  154.72  153.42  153.42   3327087  IBM\n",
       "\n",
       "[3020 rows x 7 columns]"
      ]
     },
     "execution_count": 2,
     "metadata": {},
     "output_type": "execute_result"
    }
   ],
   "source": [
    "data = pd.read_csv('Data/IBM_2006-01-01_to_2018-01-01.csv')\n",
    "data"
   ]
  },
  {
   "cell_type": "markdown",
   "id": "5f64e0da",
   "metadata": {},
   "source": [
    "## Обработка данных"
   ]
  },
  {
   "cell_type": "code",
   "execution_count": 3,
   "id": "1772b061",
   "metadata": {},
   "outputs": [
    {
     "name": "stdout",
     "output_type": "stream",
     "text": [
      "<class 'pandas.core.frame.DataFrame'>\n",
      "RangeIndex: 3020 entries, 0 to 3019\n",
      "Data columns (total 7 columns):\n",
      " #   Column  Non-Null Count  Dtype         \n",
      "---  ------  --------------  -----         \n",
      " 0   Date    3020 non-null   datetime64[ns]\n",
      " 1   Open    3019 non-null   float64       \n",
      " 2   High    3020 non-null   float64       \n",
      " 3   Low     3019 non-null   float64       \n",
      " 4   Close   3020 non-null   float64       \n",
      " 5   Volume  3020 non-null   int64         \n",
      " 6   Name    3020 non-null   object        \n",
      "dtypes: datetime64[ns](1), float64(4), int64(1), object(1)\n",
      "memory usage: 165.3+ KB\n"
     ]
    }
   ],
   "source": [
    "#Переведем дату в тип данных datetime\n",
    "data['Date'] = data['Date'].astype('datetime64')\n",
    "data.info()"
   ]
  },
  {
   "cell_type": "markdown",
   "id": "6761bdec",
   "metadata": {},
   "source": [
    "Заранее разделим данные на тренировочные и тестовые\n",
    "Во временных рядах очень важно следить за тем, чтобы модель случайно не увидела тестовые данные (данные с будущего) - \n",
    "поэтому даже обработка данных должна проходить раздельно и Данные нельзя мешать"
   ]
  },
  {
   "cell_type": "code",
   "execution_count": 4,
   "id": "94fcd03a",
   "metadata": {},
   "outputs": [],
   "source": [
    "train_data = data[['Date', 'Close']].loc[data['Date'] < '2017-01-01']\n",
    "test_data = data[['Date', 'Close']].loc[data['Date'] >= '2017-01-01']"
   ]
  },
  {
   "cell_type": "code",
   "execution_count": 5,
   "id": "736ff2cc",
   "metadata": {},
   "outputs": [],
   "source": [
    "train_data_array = np.array(train_data['Close']).reshape(-1,1)"
   ]
  },
  {
   "cell_type": "code",
   "execution_count": 6,
   "id": "41498233",
   "metadata": {},
   "outputs": [
    {
     "data": {
      "text/plain": [
       "((2769, 2), (251, 2))"
      ]
     },
     "execution_count": 6,
     "metadata": {},
     "output_type": "execute_result"
    }
   ],
   "source": [
    "train_data.shape, test_data.shape"
   ]
  },
  {
   "cell_type": "code",
   "execution_count": 7,
   "id": "51fb8f4e",
   "metadata": {},
   "outputs": [
    {
     "data": {
      "image/png": "[encoded data removed]",
      "text/plain": [
       "<Figure size 1152x576 with 1 Axes>"
      ]
     },
     "metadata": {},
     "output_type": "display_data"
    }
   ],
   "source": [
    "plt.style.use('fivethirtyeight')\n",
    "plt.figure(figsize=(16, 8))\n",
    "plt.plot(train_data['Date'], train_data['Close'], color = 'blue')\n",
    "plt.plot(test_data['Date'], test_data['Close'], color = 'red')\n",
    "plt.title('IBM_Price')\n",
    "plt.xlabel('Дата')\n",
    "plt.ylabel('Цена')\n",
    "plt.legend(['Тренировочные данные (до 2017 года)','Тестовые данные (после 2017 года)'])\n",
    "plt.show()"
   ]
  },
  {
   "cell_type": "code",
   "execution_count": 8,
   "id": "e0fb514d",
   "metadata": {},
   "outputs": [
    {
     "data": {
      "text/plain": [
       "array([[0.07163682],\n",
       "       [0.07087325],\n",
       "       [0.0746911 ],\n",
       "       ...,\n",
       "       [0.6556296 ],\n",
       "       [0.65847564],\n",
       "       [0.65424129]])"
      ]
     },
     "execution_count": 8,
     "metadata": {},
     "output_type": "execute_result"
    }
   ],
   "source": [
    "#Нормализация данных\n",
    "sc = MinMaxScaler(feature_range = (0,1))\n",
    "train_data_scaler = sc.fit_transform(np.array(train_data_array))\n",
    "train_data_scaler"
   ]
  },
  {
   "cell_type": "markdown",
   "id": "c8a79ebc",
   "metadata": {},
   "source": [
    "Так как архитектура нейронной сети у нас LSTM, т.е мы можем запоминать данные с прошлого, то создадим окна длинною 60 и будем\n",
    "предсказывать 61 значение."
   ]
  },
  {
   "cell_type": "code",
   "execution_count": 9,
   "id": "6cfea5f0",
   "metadata": {},
   "outputs": [],
   "source": [
    "train_X = []\n",
    "train_y = []\n",
    "for i in range(60, train_data_scaler.shape[0]):\n",
    "    train_X.append(train_data_scaler[i-60:i, 0])\n",
    "    train_y.append(train_data_scaler[i, 0])\n",
    "train_X, train_y = np.array(train_X), np.array(train_y)"
   ]
  },
  {
   "cell_type": "code",
   "execution_count": 10,
   "id": "ebe128ac",
   "metadata": {},
   "outputs": [],
   "source": [
    "train_X = np.reshape(train_X, (2709, 60, 1))"
   ]
  },
  {
   "cell_type": "markdown",
   "id": "e467190e",
   "metadata": {},
   "source": [
    "Т.е. на вход у нас поступает 60 предыдущих значений и идет предсказание 61 значения, далее обновляются веса"
   ]
  },
  {
   "cell_type": "code",
   "execution_count": 11,
   "id": "e91ba732",
   "metadata": {},
   "outputs": [
    {
     "data": {
      "text/plain": [
       "(2709, 60, 1)"
      ]
     },
     "execution_count": 11,
     "metadata": {},
     "output_type": "execute_result"
    }
   ],
   "source": [
    "train_X.shape"
   ]
  },
  {
   "cell_type": "markdown",
   "id": "787dd8a2",
   "metadata": {},
   "source": [
    "## Обучение нейронной сети"
   ]
  },
  {
   "cell_type": "code",
   "execution_count": 12,
   "id": "3753ad62",
   "metadata": {},
   "outputs": [
    {
     "name": "stdout",
     "output_type": "stream",
     "text": [
      "Model: \"sequential\"\n",
      "_________________________________________________________________\n",
      " Layer (type)                Output Shape              Param #   \n",
      "=================================================================\n",
      " lstm (LSTM)                 (None, 60, 50)            10400     \n",
      "                                                                 \n",
      " dropout (Dropout)           (None, 60, 50)            0         \n",
      "                                                                 \n",
      " lstm_1 (LSTM)               (None, 60, 50)            20200     \n",
      "                                                                 \n",
      " dropout_1 (Dropout)         (None, 60, 50)            0         \n",
      "                                                                 \n",
      " lstm_2 (LSTM)               (None, 60, 50)            20200     \n",
      "                                                                 \n",
      " dropout_2 (Dropout)         (None, 60, 50)            0         \n",
      "                                                                 \n",
      " lstm_3 (LSTM)               (None, 50)                20200     \n",
      "                                                                 \n",
      " dropout_3 (Dropout)         (None, 50)                0         \n",
      "                                                                 \n",
      " dense (Dense)               (None, 1)                 51        \n",
      "                                                                 \n",
      "=================================================================\n",
      "Total params: 71,051\n",
      "Trainable params: 71,051\n",
      "Non-trainable params: 0\n",
      "_________________________________________________________________\n"
     ]
    }
   ],
   "source": [
    "regressor = Sequential()\n",
    "# Первый слой с дропаут регуляризацией\n",
    "regressor.add(LSTM(units=50, return_sequences=True, input_shape=(train_X.shape[1],1)))\n",
    "regressor.add(Dropout(0.2))\n",
    "# Второй\n",
    "regressor.add(LSTM(units=50, return_sequences=True))\n",
    "regressor.add(Dropout(0.2))\n",
    "# Третий\n",
    "regressor.add(LSTM(units=50, return_sequences=True))\n",
    "regressor.add(Dropout(0.2))\n",
    "# Четвертый\n",
    "regressor.add(LSTM(units=50))\n",
    "regressor.add(Dropout(0.2))\n",
    "# Выход\n",
    "regressor.add(Dense(units=1))\n",
    "\n",
    "# Compiling the RNN\n",
    "regressor.compile(optimizer='rmsprop',loss='mean_squared_error', metrics=['accuracy'],)\n",
    "# Summary of the model\n",
    "regressor.summary()"
   ]
  },
  {
   "cell_type": "code",
   "execution_count": 13,
   "id": "e4defee9",
   "metadata": {},
   "outputs": [
    {
     "name": "stdout",
     "output_type": "stream",
     "text": [
      "Epoch 1/50\n",
      "85/85 [==============================] - 10s 50ms/step - loss: 0.0202 - accuracy: 7.3828e-04\n",
      "Epoch 2/50\n",
      "85/85 [==============================] - 4s 49ms/step - loss: 0.0097 - accuracy: 7.3828e-04\n",
      "Epoch 3/50\n",
      "85/85 [==============================] - 6s 66ms/step - loss: 0.0081 - accuracy: 7.3828e-04\n",
      "Epoch 4/50\n",
      "85/85 [==============================] - 6s 66ms/step - loss: 0.0072 - accuracy: 7.3828e-04\n",
      "Epoch 5/50\n",
      "85/85 [==============================] - 5s 59ms/step - loss: 0.0061 - accuracy: 7.3828e-04\n",
      "Epoch 6/50\n",
      "85/85 [==============================] - 5s 59ms/step - loss: 0.0059 - accuracy: 7.3828e-04\n",
      "Epoch 7/50\n",
      "85/85 [==============================] - 5s 59ms/step - loss: 0.0053 - accuracy: 7.3828e-04\n",
      "Epoch 8/50\n",
      "85/85 [==============================] - 5s 59ms/step - loss: 0.0049 - accuracy: 7.3828e-04\n",
      "Epoch 9/50\n",
      "85/85 [==============================] - 5s 59ms/step - loss: 0.0045 - accuracy: 7.3828e-04\n",
      "Epoch 10/50\n",
      "85/85 [==============================] - 5s 60ms/step - loss: 0.0042 - accuracy: 7.3828e-04\n",
      "Epoch 11/50\n",
      "85/85 [==============================] - 5s 59ms/step - loss: 0.0042 - accuracy: 7.3828e-04\n",
      "Epoch 12/50\n",
      "85/85 [==============================] - 5s 59ms/step - loss: 0.0038 - accuracy: 7.3828e-04\n",
      "Epoch 13/50\n",
      "85/85 [==============================] - 5s 59ms/step - loss: 0.0036 - accuracy: 7.3828e-04\n",
      "Epoch 14/50\n",
      "85/85 [==============================] - 5s 59ms/step - loss: 0.0036 - accuracy: 7.3828e-04\n",
      "Epoch 15/50\n",
      "85/85 [==============================] - 5s 59ms/step - loss: 0.0033 - accuracy: 7.3828e-04\n",
      "Epoch 16/50\n",
      "85/85 [==============================] - 5s 62ms/step - loss: 0.0033 - accuracy: 7.3828e-04\n",
      "Epoch 17/50\n",
      "85/85 [==============================] - 5s 61ms/step - loss: 0.0029 - accuracy: 7.3828e-04\n",
      "Epoch 18/50\n",
      "85/85 [==============================] - 5s 59ms/step - loss: 0.0029 - accuracy: 7.3828e-04\n",
      "Epoch 19/50\n",
      "85/85 [==============================] - 5s 60ms/step - loss: 0.0029 - accuracy: 7.3828e-04\n",
      "Epoch 20/50\n",
      "85/85 [==============================] - 5s 57ms/step - loss: 0.0027 - accuracy: 7.3828e-04\n",
      "Epoch 21/50\n",
      "85/85 [==============================] - 5s 57ms/step - loss: 0.0026 - accuracy: 7.3828e-04\n",
      "Epoch 22/50\n",
      "85/85 [==============================] - 5s 57ms/step - loss: 0.0025 - accuracy: 7.3828e-04\n",
      "Epoch 23/50\n",
      "85/85 [==============================] - 5s 57ms/step - loss: 0.0026 - accuracy: 7.3828e-04\n",
      "Epoch 24/50\n",
      "85/85 [==============================] - 5s 57ms/step - loss: 0.0024 - accuracy: 7.3828e-04\n",
      "Epoch 25/50\n",
      "85/85 [==============================] - 5s 57ms/step - loss: 0.0025 - accuracy: 7.3828e-04\n",
      "Epoch 26/50\n",
      "85/85 [==============================] - 5s 57ms/step - loss: 0.0022 - accuracy: 7.3828e-04\n",
      "Epoch 27/50\n",
      "85/85 [==============================] - 5s 57ms/step - loss: 0.0024 - accuracy: 7.3828e-04\n",
      "Epoch 28/50\n",
      "85/85 [==============================] - 5s 57ms/step - loss: 0.0021 - accuracy: 7.3828e-04\n",
      "Epoch 29/50\n",
      "85/85 [==============================] - 5s 58ms/step - loss: 0.0022 - accuracy: 7.3828e-04\n",
      "Epoch 30/50\n",
      "85/85 [==============================] - 5s 58ms/step - loss: 0.0021 - accuracy: 7.3828e-04\n",
      "Epoch 31/50\n",
      "85/85 [==============================] - 5s 57ms/step - loss: 0.0020 - accuracy: 7.3828e-04\n",
      "Epoch 32/50\n",
      "85/85 [==============================] - 5s 57ms/step - loss: 0.0018 - accuracy: 7.3828e-04\n",
      "Epoch 33/50\n",
      "85/85 [==============================] - 5s 57ms/step - loss: 0.0021 - accuracy: 7.3828e-04\n",
      "Epoch 34/50\n",
      "85/85 [==============================] - 5s 58ms/step - loss: 0.0020 - accuracy: 7.3828e-04\n",
      "Epoch 35/50\n",
      "85/85 [==============================] - 5s 57ms/step - loss: 0.0020 - accuracy: 7.3828e-04\n",
      "Epoch 36/50\n",
      "85/85 [==============================] - 5s 57ms/step - loss: 0.0020 - accuracy: 7.3828e-04\n",
      "Epoch 37/50\n",
      "85/85 [==============================] - 5s 57ms/step - loss: 0.0018 - accuracy: 7.3828e-04\n",
      "Epoch 38/50\n",
      "85/85 [==============================] - 5s 57ms/step - loss: 0.0018 - accuracy: 7.3828e-04\n",
      "Epoch 39/50\n",
      "85/85 [==============================] - 5s 57ms/step - loss: 0.0019 - accuracy: 7.3828e-04\n",
      "Epoch 40/50\n",
      "85/85 [==============================] - 5s 57ms/step - loss: 0.0018 - accuracy: 7.3828e-04\n",
      "Epoch 41/50\n",
      "85/85 [==============================] - 5s 57ms/step - loss: 0.0017 - accuracy: 7.3828e-04\n",
      "Epoch 42/50\n",
      "85/85 [==============================] - 5s 57ms/step - loss: 0.0017 - accuracy: 7.3828e-04\n",
      "Epoch 43/50\n",
      "85/85 [==============================] - 5s 59ms/step - loss: 0.0017 - accuracy: 7.3828e-04\n",
      "Epoch 44/50\n",
      "85/85 [==============================] - 5s 59ms/step - loss: 0.0018 - accuracy: 7.3828e-04\n",
      "Epoch 45/50\n",
      "85/85 [==============================] - 5s 57ms/step - loss: 0.0017 - accuracy: 7.3828e-04\n",
      "Epoch 46/50\n",
      "85/85 [==============================] - 5s 58ms/step - loss: 0.0017 - accuracy: 7.3828e-04\n",
      "Epoch 47/50\n",
      "85/85 [==============================] - 5s 57ms/step - loss: 0.0017 - accuracy: 7.3828e-04\n",
      "Epoch 48/50\n",
      "85/85 [==============================] - 5s 57ms/step - loss: 0.0016 - accuracy: 7.3828e-04\n",
      "Epoch 49/50\n",
      "85/85 [==============================] - 5s 57ms/step - loss: 0.0016 - accuracy: 7.3828e-04\n",
      "Epoch 50/50\n",
      "85/85 [==============================] - 5s 57ms/step - loss: 0.0016 - accuracy: 7.3828e-04\n"
     ]
    },
    {
     "data": {
      "text/plain": [
       "<keras.callbacks.History at 0x1f2d9badc70>"
      ]
     },
     "execution_count": 13,
     "metadata": {},
     "output_type": "execute_result"
    }
   ],
   "source": [
    "regressor.fit(train_X, train_y, epochs=50, batch_size=32)"
   ]
  },
  {
   "cell_type": "markdown",
   "id": "77fc3c5c",
   "metadata": {},
   "source": [
    "# Предсказание нейронной сети"
   ]
  },
  {
   "cell_type": "code",
   "execution_count": 14,
   "id": "1be0dcf4",
   "metadata": {},
   "outputs": [],
   "source": [
    "all_data = data['Close']\n",
    "test = all_data.iloc[len(all_data) - len(test_data) - 60:]\n",
    "test = np.array(test)\n",
    "test = test.reshape(-1, 1)\n",
    "test = sc.fit_transform(np.array(test))"
   ]
  },
  {
   "cell_type": "code",
   "execution_count": 15,
   "id": "e5e45315",
   "metadata": {},
   "outputs": [
    {
     "name": "stdout",
     "output_type": "stream",
     "text": [
      "8/8 [==============================] - 1s 19ms/step\n"
     ]
    }
   ],
   "source": [
    "X_test = []\n",
    "for i in range(60,311):\n",
    "    X_test.append(test[i-60:i,0])\n",
    "X_test = np.array(X_test)\n",
    "X_test = np.reshape(X_test, (X_test.shape[0],X_test.shape[1],1))\n",
    "predicted_stock_price = regressor.predict(X_test)\n",
    "predicted_stock_price = sc.inverse_transform(predicted_stock_price)\n",
    "predicted_stock_price = predicted_stock_price.reshape(-1)"
   ]
  },
  {
   "cell_type": "code",
   "execution_count": 16,
   "id": "99288b00",
   "metadata": {},
   "outputs": [],
   "source": [
    "def plot_predictions(test, predicted):\n",
    "    plt.plot(test, color='red',label='Реальный значение')\n",
    "    plt.plot(predicted, color='blue', label='Предсказание')\n",
    "    plt.title('IBM_Price')\n",
    "    plt.xlabel('Дата')\n",
    "    plt.ylabel('Цена')\n",
    "    plt.legend()\n",
    "    plt.show()\n",
    "\n",
    "def return_rmse(test,predicted):\n",
    "    rmse = math.sqrt(mean_squared_error(test, predicted))\n",
    "    print(\"The root mean squared error is {}.\".format(rmse))"
   ]
  },
  {
   "cell_type": "code",
   "execution_count": 17,
   "id": "547250ef",
   "metadata": {},
   "outputs": [
    {
     "data": {
      "image/png": "[encoded data removed]",
      "text/plain": [
       "<Figure size 432x288 with 1 Axes>"
      ]
     },
     "metadata": {},
     "output_type": "display_data"
    }
   ],
   "source": [
    "plot_predictions(np.array(test_data['Close']), predicted_stock_price)"
   ]
  },
  {
   "cell_type": "code",
   "execution_count": 18,
   "id": "98635309",
   "metadata": {},
   "outputs": [
    {
     "name": "stdout",
     "output_type": "stream",
     "text": [
      "The root mean squared error is 3.006651962354292.\n"
     ]
    }
   ],
   "source": [
    "return_rmse(np.array(test_data['Close']), predicted_stock_price)"
   ]
  }
 ],
 "metadata": {
  "kernelspec": {
   "display_name": "Python 3 (ipykernel)",
   "language": "python",
   "name": "python3"
  },
  "language_info": {
   "codemirror_mode": {
    "name": "ipython",
    "version": 3
   },
   "file_extension": ".py",
   "mimetype": "text/x-python",
   "name": "python",
   "nbconvert_exporter": "python",
   "pygments_lexer": "ipython3",
   "version": "3.9.7"
  }
 },
 "nbformat": 4,
 "nbformat_minor": 5
}
