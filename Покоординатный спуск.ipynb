{
 "cells": [
  {
   "cell_type": "code",
   "execution_count": 1,
   "id": "4fafd22b",
   "metadata": {},
   "outputs": [],
   "source": [
    "import numpy as np\n"
   ]
  },
  {
   "cell_type": "code",
   "execution_count": 1,
   "id": "9cc24c3b",
   "metadata": {},
   "outputs": [],
   "source": [
    "def f(x1, x2):\n",
    "    return (2*x1**2-2*x1*x2+6*x2**2+x1-x2)\n",
    "def df1(x1, x2):\n",
    "    return(4*x1-2*x2+1)\n",
    "def df2(x1, x2):\n",
    "    return(-2*x1+12*x2-1)"
   ]
  },
  {
   "cell_type": "code",
   "execution_count": 3,
   "id": "4672345d",
   "metadata": {},
   "outputs": [],
   "source": [
    "def iterx1(a,b,c,d, x2):\n",
    "    d = a+(b-a)*(5**(1/2)-1)/2\n",
    "    c = b-(b-a)*(5**(1/2)-1)/2\n",
    "    if f(d, x2)<f(c, x2):\n",
    "        a=c\n",
    "    else:\n",
    "        b=d\n",
    "    return (a,b,c,d)\n",
    "\n",
    "def iterx2(a,b,c,d, x1):\n",
    "    d = a+(b-a)*(5**(1/2)-1)/2\n",
    "    c = b-(b-a)*(5**(1/2)-1)/2\n",
    "    if f(x1, d)<f(x1, c):\n",
    "        a=c\n",
    "    else:\n",
    "        b=d\n",
    "    return (a,b,c,d)"
   ]
  },
  {
   "cell_type": "code",
   "execution_count": 4,
   "id": "44d5c0be",
   "metadata": {},
   "outputs": [],
   "source": [
    "def minx1(x2):\n",
    "    a=-10\n",
    "    b=10\n",
    "    c=0\n",
    "    d=0\n",
    "    i=0\n",
    "    while abs(b-a) > 0.00001:\n",
    "        i+=1\n",
    "        a,b,c,d = iterx1(a,b,c,d,x2)\n",
    "        iterx1(a,b,c,d,x2)\n",
    "    x1 = (a + b)/2\n",
    "    return x1\n",
    "def minx2(x1):\n",
    "    a=-10\n",
    "    b=10\n",
    "    c=0\n",
    "    d=0\n",
    "    while abs(b-a) > 0.00001:\n",
    "        a,b,c,d = iterx2(a,b,c,d,x1)\n",
    "        iterx2(a,b,c,d,x1)\n",
    "    x2 = (a + b)/2\n",
    "    return x2"
   ]
  },
  {
   "cell_type": "code",
   "execution_count": 5,
   "id": "795fb71e",
   "metadata": {},
   "outputs": [],
   "source": [
    "def grad(x1, x2):\n",
    "    m=0\n",
    "    z=0 \n",
    "    m = df1(x1,x2)\n",
    "    z = df2(x1,x2)\n",
    "    return (m**2 + z**2)**(1/2)"
   ]
  },
  {
   "cell_type": "code",
   "execution_count": 6,
   "id": "fac467fe",
   "metadata": {},
   "outputs": [],
   "source": [
    "def coorspusk():\n",
    "    x1 = -0.25\n",
    "    x2 = 0.083\n",
    "    gradx = 1.0\n",
    "    i=1\n",
    "    while gradx > 0.0001:\n",
    "        i+=1\n",
    "        x1 = minx1(x2)\n",
    "        x2 = minx2(x1)\n",
    "        gradx = grad(x1,x2)\n",
    "        print(\"{}, {}, {}, {}\".format(i, x1, x2, gradx))\n",
    "    return(x1,x2)"
   ]
  },
  {
   "cell_type": "code",
   "execution_count": 7,
   "id": "18310aef",
   "metadata": {},
   "outputs": [
    {
     "name": "stdout",
     "output_type": "stream",
     "text": [
      "2, -0.20849940000383244, 0.048583484016085025, 0.0688354319551871\n",
      "3, -0.2257087095753196, 0.04571562699459062, 0.005733909840206957\n",
      "4, -0.2271434222741377, 0.04547719255512865, 0.0004721091122030783\n",
      "5, -0.22726263949386866, 0.045455692935134434, 3.8591515008406455e-05\n",
      "-0.22726263949386866 0.045455692935134434\n"
     ]
    }
   ],
   "source": [
    "x1, x2 = coorspusk()\n",
    "print(x1, x2)"
   ]
  },
  {
   "cell_type": "code",
   "execution_count": 8,
   "id": "cffb4352",
   "metadata": {},
   "outputs": [
    {
     "data": {
      "text/plain": [
       "0.5230411073711129"
      ]
     },
     "execution_count": 8,
     "metadata": {},
     "output_type": "execute_result"
    }
   ],
   "source": [
    "grad(-0.25, 0.083)"
   ]
  },
  {
   "cell_type": "code",
   "execution_count": 4,
   "id": "a49d2bd7",
   "metadata": {},
   "outputs": [
    {
     "data": {
      "text/plain": [
       "-0.0007039999999999824"
      ]
     },
     "execution_count": 4,
     "metadata": {},
     "output_type": "execute_result"
    }
   ],
   "source": [
    "f(-0.232, 0.048)-f(-0.248,0.04)"
   ]
  },
  {
   "cell_type": "code",
   "execution_count": null,
   "id": "a36b6f33",
   "metadata": {},
   "outputs": [],
   "source": [
    "-0.216, 0.048"
   ]
  }
 ],
 "metadata": {
  "kernelspec": {
   "display_name": "Python 3 (ipykernel)",
   "language": "python",
   "name": "python3"
  },
  "language_info": {
   "codemirror_mode": {
    "name": "ipython",
    "version": 3
   },
   "file_extension": ".py",
   "mimetype": "text/x-python",
   "name": "python",
   "nbconvert_exporter": "python",
   "pygments_lexer": "ipython3",
   "version": "3.9.7"
  }
 },
 "nbformat": 4,
 "nbformat_minor": 5
}
